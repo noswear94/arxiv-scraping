{
  "nbformat": 4,
  "nbformat_minor": 0,
  "metadata": {
    "colab": {
      "name": "ArxivTest.ipynb",
      "provenance": [],
      "collapsed_sections": [],
      "authorship_tag": "ABX9TyPruWSfoZCnaUNoi39uopdE"
    },
    "kernelspec": {
      "name": "python3",
      "display_name": "Python 3"
    },
    "language_info": {
      "name": "python"
    }
  },
  "cells": [
    {
      "cell_type": "markdown",
      "metadata": {
        "id": "TxUJclsRvoi8"
      },
      "source": [
        "# **Scraping Arxiv Data**"
      ]
    },
    {
      "cell_type": "markdown",
      "metadata": {
        "id": "gJcZH5CGvzvV"
      },
      "source": [
        "Importing Libraries"
      ]
    },
    {
      "cell_type": "code",
      "metadata": {
        "id": "0GKrpa9hugxJ"
      },
      "source": [
        "from bs4 import BeautifulSoup\n",
        "import requests\n",
        "import urllib.request\n",
        "import concurrent.futures\n",
        "import re\n",
        "import pandas as pd\n",
        "import time"
      ],
      "execution_count": null,
      "outputs": []
    },
    {
      "cell_type": "markdown",
      "metadata": {
        "id": "UHUexlRjv5DJ"
      },
      "source": [
        "Initializing Threads"
      ]
    },
    {
      "cell_type": "code",
      "metadata": {
        "id": "BJMD0vmbuqXy"
      },
      "source": [
        "MAX_LINK_THREADS = 30\n",
        "MAX_PAGE_THREADS = 1000"
      ],
      "execution_count": null,
      "outputs": []
    },
    {
      "cell_type": "markdown",
      "metadata": {
        "id": "aCsXeC0sv9P4"
      },
      "source": [
        "Creating links from arxiv.org for search page in groups of 1000s (In this case Maths/Year 2021 till September)"
      ]
    },
    {
      "cell_type": "code",
      "metadata": {
        "id": "buepASZ8u-Pp"
      },
      "source": [
        "master = []\n",
        "show = 1000\n",
        "for skip in range(0,31001,1000):\n",
        "  master.append('https://arxiv.org/list?archive=math&year=21&month=all&skip='+str(skip)+'&show='+str(show))"
      ],
      "execution_count": 1,
      "outputs": []
    },
    {
      "cell_type": "code",
      "metadata": {
        "id": "x4lPCMGTwUvf"
      },
      "source": [
        "abs_links = []"
      ],
      "execution_count": null,
      "outputs": []
    },
    {
      "cell_type": "markdown",
      "metadata": {
        "id": "rqwUjbCBwg-l"
      },
      "source": [
        "Funcion for scarping paper id for each paper published for a subject"
      ]
    },
    {
      "cell_type": "code",
      "metadata": {
        "id": "wkhMz12hwZgE"
      },
      "source": [
        "def scrape_links(master_urls):\n",
        "  source_code=requests.get(master_urls)\n",
        "  plain_text=source_code.text\n",
        "  soup=BeautifulSoup(plain_text,'html.parser')\n",
        "  for a in soup.find_all('a', href=True):\n",
        "    if 'abs' in a['href']:\n",
        "      abs_links.append(a['href'])"
      ],
      "execution_count": 2,
      "outputs": []
    },
    {
      "cell_type": "markdown",
      "metadata": {
        "id": "ZNsNr1LIwy_R"
      },
      "source": [
        "Using concurrent.futures to create muliple threads for faster scraping"
      ]
    },
    {
      "cell_type": "code",
      "metadata": {
        "id": "dPj_TCvPwcDf"
      },
      "source": [
        "def download_links(master):\n",
        "    threads = min(MAX_LINK_THREADS, len(master))\n",
        "    \n",
        "    with concurrent.futures.ThreadPoolExecutor(max_workers=threads) as executor:\n",
        "        executor.map(scrape_links, master)"
      ],
      "execution_count": null,
      "outputs": []
    },
    {
      "cell_type": "markdown",
      "metadata": {
        "id": "yX3GbPSUw65g"
      },
      "source": [
        "Runing the aboove functions"
      ]
    },
    {
      "cell_type": "code",
      "metadata": {
        "id": "wCX__Ibpwt06"
      },
      "source": [
        "download_links(master)"
      ],
      "execution_count": null,
      "outputs": []
    },
    {
      "cell_type": "code",
      "metadata": {
        "id": "QJdxyb5gwwT2"
      },
      "source": [
        "abs_links = set(abs_links)"
      ],
      "execution_count": null,
      "outputs": []
    },
    {
      "cell_type": "code",
      "metadata": {
        "id": "IMFeuKbazIUg"
      },
      "source": [
        "all_links = []"
      ],
      "execution_count": null,
      "outputs": []
    },
    {
      "cell_type": "markdown",
      "metadata": {
        "id": "cmMngSVzxDEZ"
      },
      "source": [
        "Creating links for each paper Ids"
      ]
    },
    {
      "cell_type": "code",
      "metadata": {
        "id": "y5Nsf7WWxDSC"
      },
      "source": [
        "for l in abs_links:\n",
        "  link = 'https://arxiv.org'+str(l)\n",
        "  all_links.append(link)"
      ],
      "execution_count": null,
      "outputs": []
    },
    {
      "cell_type": "code",
      "metadata": {
        "colab": {
          "base_uri": "https://localhost:8080/"
        },
        "id": "Lgf2HZyCjXVh",
        "outputId": "365b957e-a666-4e98-edd7-269e2dacf23f"
      },
      "source": [
        "len(all_links)"
      ],
      "execution_count": null,
      "outputs": [
        {
          "output_type": "execute_result",
          "data": {
            "text/plain": [
              "0"
            ]
          },
          "metadata": {},
          "execution_count": 111
        }
      ]
    },
    {
      "cell_type": "markdown",
      "metadata": {
        "id": "s1yL5XMWxKhp"
      },
      "source": [
        "Scraing each each paper link for the details of a paper"
      ]
    },
    {
      "cell_type": "code",
      "metadata": {
        "id": "3BoidGnNzN9c"
      },
      "source": [
        "pages_data = []\n",
        "\n",
        "def scrape_page_data(page_url):\n",
        "  source_code=requests.get(page_url)\n",
        "  plain_text=source_code.text\n",
        "  soup=BeautifulSoup(plain_text,'html.parser')\n",
        "\n",
        "  title=soup.find('h1', class_='title')\n",
        "  unwanted = title.find('span')\n",
        "  unwanted.extract()\n",
        "\n",
        "  authors=soup.find('div', class_='authors')\n",
        "  unwanted = authors.find('span')\n",
        "  unwanted.extract()\n",
        "\n",
        "  abstract=soup.find('blockquote', class_='abstract')\n",
        "  unwanted = abstract.find('span')\n",
        "  unwanted.extract()\n",
        "\n",
        "  comments=soup.find('td', class_='comments')\n",
        "  subject=soup.find('td', class_='subjects')\n",
        " \n",
        "  topic_page_url = page_url\n",
        "  try:\n",
        "    topic_title = title.text.strip()\n",
        "  except:\n",
        "    topic_title = ''\n",
        "  try:\n",
        "    topic_authors = authors.text.strip()\n",
        "  except:\n",
        "    topic_authors = ''\n",
        "  try:\n",
        "    topic_abstract = abstract.text.strip()\n",
        "  except:\n",
        "    topic_abstract = ''\n",
        "  try:\n",
        "    topic_comments = comments.text.strip()\n",
        "  except:\n",
        "    topic_comments = ''\n",
        "  try:\n",
        "    topic_subject = subject.text.strip()\n",
        "  except:\n",
        "    topic_subject = ''\n",
        "  try:\n",
        "    topic_date = soup.find('strong', text='[v1]').next_sibling.strip()\n",
        "  except:\n",
        "    topic_date = ''\n",
        "  pages_data.append([topic_title,topic_authors,topic_abstract,topic_comments,topic_subject,topic_date,topic_page_url])"
      ],
      "execution_count": null,
      "outputs": []
    },
    {
      "cell_type": "markdown",
      "metadata": {
        "id": "-JA02zFKxP-5"
      },
      "source": [
        "Thread management for scaring individual pages"
      ]
    },
    {
      "cell_type": "code",
      "metadata": {
        "id": "sVD-BE3sRzhF"
      },
      "source": [
        "def page_data_threads(master):\n",
        "    threads = min(MAX_PAGE_THREADS, len(master))\n",
        "    \n",
        "    with concurrent.futures.ThreadPoolExecutor(max_workers=threads) as executor:\n",
        "        executor.map(scrape_page_data, master)"
      ],
      "execution_count": null,
      "outputs": []
    },
    {
      "cell_type": "code",
      "metadata": {
        "id": "FsJO6SQwTHan"
      },
      "source": [
        "all_links = list(set(all_links))"
      ],
      "execution_count": null,
      "outputs": []
    },
    {
      "cell_type": "code",
      "metadata": {
        "colab": {
          "base_uri": "https://localhost:8080/"
        },
        "id": "71QEeoCYTdqk",
        "outputId": "e15cb094-e39d-4778-be16-e485df170d58"
      },
      "source": [
        "len(all_links)"
      ],
      "execution_count": null,
      "outputs": [
        {
          "output_type": "execute_result",
          "data": {
            "text/plain": [
              "33168"
            ]
          },
          "metadata": {},
          "execution_count": 101
        }
      ]
    },
    {
      "cell_type": "markdown",
      "metadata": {
        "id": "1tMG7y1uxX22"
      },
      "source": [
        "Runing the above functions"
      ]
    },
    {
      "cell_type": "code",
      "metadata": {
        "id": "d6qOhepTiIaq"
      },
      "source": [
        "page_data_threads(all_links)"
      ],
      "execution_count": null,
      "outputs": []
    },
    {
      "cell_type": "markdown",
      "metadata": {
        "id": "ScaXCCgfxb3w"
      },
      "source": [
        "Creating a dataframe"
      ]
    },
    {
      "cell_type": "code",
      "metadata": {
        "id": "diiL7KT5Ubhc"
      },
      "source": [
        "df = pd.DataFrame(pages_data, columns=['title', 'authors', 'abstract','comments','subject','date','page_url'])"
      ],
      "execution_count": null,
      "outputs": []
    },
    {
      "cell_type": "code",
      "metadata": {
        "id": "G9HTMjkDhBbb"
      },
      "source": [
        "#df.to_csv('arxiv_math_2021_2109.csv')"
      ],
      "execution_count": null,
      "outputs": []
    },
    {
      "cell_type": "markdown",
      "metadata": {
        "id": "djhidRxpxk-h"
      },
      "source": [
        "Sample Final Data"
      ]
    },
    {
      "cell_type": "code",
      "metadata": {
        "colab": {
          "base_uri": "https://localhost:8080/",
          "height": 646
        },
        "id": "xHJTWMMmPNB7",
        "outputId": "9fe71d14-bf31-48fe-efbb-95f2accf33f6"
      },
      "source": [
        "df.head()"
      ],
      "execution_count": null,
      "outputs": [
        {
          "output_type": "execute_result",
          "data": {
            "text/html": [
              "<div>\n",
              "<style scoped>\n",
              "    .dataframe tbody tr th:only-of-type {\n",
              "        vertical-align: middle;\n",
              "    }\n",
              "\n",
              "    .dataframe tbody tr th {\n",
              "        vertical-align: top;\n",
              "    }\n",
              "\n",
              "    .dataframe thead th {\n",
              "        text-align: right;\n",
              "    }\n",
              "</style>\n",
              "<table border=\"1\" class=\"dataframe\">\n",
              "  <thead>\n",
              "    <tr style=\"text-align: right;\">\n",
              "      <th></th>\n",
              "      <th>title</th>\n",
              "      <th>authors</th>\n",
              "      <th>abstract</th>\n",
              "      <th>comments</th>\n",
              "      <th>subject</th>\n",
              "      <th>date</th>\n",
              "      <th>page_url</th>\n",
              "    </tr>\n",
              "  </thead>\n",
              "  <tbody>\n",
              "    <tr>\n",
              "      <th>0</th>\n",
              "      <td>A new stochastic order based on discrete Lapla...</td>\n",
              "      <td>Fatemeh Gharari, Masoud Ganji</td>\n",
              "      <td>This paper aims to study a new stochastic orde...</td>\n",
              "      <td></td>\n",
              "      <td>Statistics Theory (math.ST)</td>\n",
              "      <td>Thu, 8 Apr 2021 12:09:31 UTC (15 KB)</td>\n",
              "      <td>https://arxiv.org/abs/2104.03716</td>\n",
              "    </tr>\n",
              "    <tr>\n",
              "      <th>1</th>\n",
              "      <td>Learning Partial Differential Equations in Rep...</td>\n",
              "      <td>George Stepaniants</td>\n",
              "      <td>We propose a new data-driven approach for lear...</td>\n",
              "      <td>55 pages, 5 figures</td>\n",
              "      <td>Statistics Theory (math.ST); Numerical Analysi...</td>\n",
              "      <td>Thu, 26 Aug 2021 05:22:24 UTC (4,561 KB)</td>\n",
              "      <td>https://arxiv.org/abs/2108.11580</td>\n",
              "    </tr>\n",
              "    <tr>\n",
              "      <th>2</th>\n",
              "      <td>Rigidity theorem of the Bergman kernel by anal...</td>\n",
              "      <td>John Treuer</td>\n",
              "      <td>In [7], Dong and I proved that the domains $D ...</td>\n",
              "      <td></td>\n",
              "      <td>Complex Variables (math.CV)</td>\n",
              "      <td>Tue, 5 Jan 2021 06:00:32 UTC (7 KB)</td>\n",
              "      <td>https://arxiv.org/abs/2101.01358</td>\n",
              "    </tr>\n",
              "    <tr>\n",
              "      <th>3</th>\n",
              "      <td>Optimization on manifolds: A symplectic approach</td>\n",
              "      <td>Guilherme França, Alessandro Barp, Mark Girola...</td>\n",
              "      <td>There has been great interest in using tools f...</td>\n",
              "      <td></td>\n",
              "      <td>Statistical Mechanics (cond-mat.stat-mech); Op...</td>\n",
              "      <td>Fri, 23 Jul 2021 13:43:34 UTC (959 KB)</td>\n",
              "      <td>https://arxiv.org/abs/2107.11231</td>\n",
              "    </tr>\n",
              "    <tr>\n",
              "      <th>4</th>\n",
              "      <td>Options for a finite group model of quantum me...</td>\n",
              "      <td>Robert A. Wilson</td>\n",
              "      <td>There are four finite groups that could plausi...</td>\n",
              "      <td>v2: added a section showing how to obtain a mo...</td>\n",
              "      <td>Group Theory (math.GR); High Energy Physics - ...</td>\n",
              "      <td>Tue, 20 Apr 2021 09:51:02 UTC (17 KB)</td>\n",
              "      <td>https://arxiv.org/abs/2104.10165</td>\n",
              "    </tr>\n",
              "  </tbody>\n",
              "</table>\n",
              "</div>"
            ],
            "text/plain": [
              "                                               title  ...                          page_url\n",
              "0  A new stochastic order based on discrete Lapla...  ...  https://arxiv.org/abs/2104.03716\n",
              "1  Learning Partial Differential Equations in Rep...  ...  https://arxiv.org/abs/2108.11580\n",
              "2  Rigidity theorem of the Bergman kernel by anal...  ...  https://arxiv.org/abs/2101.01358\n",
              "3   Optimization on manifolds: A symplectic approach  ...  https://arxiv.org/abs/2107.11231\n",
              "4  Options for a finite group model of quantum me...  ...  https://arxiv.org/abs/2104.10165\n",
              "\n",
              "[5 rows x 7 columns]"
            ]
          },
          "metadata": {},
          "execution_count": 98
        }
      ]
    },
    {
      "cell_type": "code",
      "metadata": {
        "id": "CYNW_zRMTdYF"
      },
      "source": [
        ""
      ],
      "execution_count": null,
      "outputs": []
    }
  ]
}